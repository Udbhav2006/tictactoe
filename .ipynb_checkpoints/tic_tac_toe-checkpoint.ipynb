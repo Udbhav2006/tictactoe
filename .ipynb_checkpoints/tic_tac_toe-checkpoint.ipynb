{
 "cells": [
  {
   "cell_type": "markdown",
   "metadata": {},
   "source": [
    "TIC TAC TOE GAME:"
   ]
  },
  {
   "cell_type": "code",
   "execution_count": 14,
   "metadata": {},
   "outputs": [],
   "source": [
    "def display_board(board):\n",
    "    \n",
    "    print(board[7]+'|'+board[8]+'|'+board[9])\n",
    "    print('-----')\n",
    "    print(board[4]+'|'+board[5]+'|'+board[6])\n",
    "    print('-----')\n",
    "    print(board[1]+'|'+board[2]+'|'+board[3])\n",
    "\n"
   ]
  },
  {
   "cell_type": "code",
   "execution_count": 15,
   "metadata": {},
   "outputs": [
    {
     "name": "stdout",
     "output_type": "stream",
     "text": [
      "X|X|X\n",
      "-----\n",
      "O|X|O\n",
      "-----\n",
      "X|O|X\n"
     ]
    }
   ],
   "source": [
    "test_board = ['#','X','O','X','O','X','O','X','X','X']\n",
    "# test_board = ['0','1','2','3','4','5','6','7','8','9']\n",
    "display_board(test_board)"
   ]
  },
  {
   "cell_type": "code",
   "execution_count": 3,
   "metadata": {},
   "outputs": [],
   "source": [
    "def player_input():\n",
    "    a = ''\n",
    "    while a not in ['X','O']:\n",
    "        a = input(\"Player 1 choose X or O: \")\n",
    "    if a == 'X':\n",
    "        player1 = 'X'\n",
    "        player2 = 'O'\n",
    "    elif a == 'O':\n",
    "        player1 = 'O'\n",
    "        player2 = 'X'\n",
    "    return (player1,player2)"
   ]
  },
  {
   "cell_type": "code",
   "execution_count": 4,
   "metadata": {},
   "outputs": [],
   "source": [
    "# player_input()"
   ]
  },
  {
   "cell_type": "code",
   "execution_count": 5,
   "metadata": {},
   "outputs": [],
   "source": [
    "def place_marker(board, mark, position):\n",
    "    board[position] = mark"
   ]
  },
  {
   "cell_type": "code",
   "execution_count": 6,
   "metadata": {},
   "outputs": [],
   "source": [
    "# place_marker(test_board,'$',8)\n",
    "# display_board(test_board)"
   ]
  },
  {
   "cell_type": "code",
   "execution_count": 7,
   "metadata": {},
   "outputs": [],
   "source": [
    "def win_check(board, mark):\n",
    "    if board[1]==board[2]==board[3]==mark:\n",
    "        return True\n",
    "    if board[4]==board[5]==board[6]==mark:\n",
    "        return True\n",
    "    if board[7]==board[8]==board[9]==mark:\n",
    "        return True\n",
    "    if board[7]==board[4]==board[1]==mark:\n",
    "        return True\n",
    "    if board[8]==board[5]==board[2]==mark:\n",
    "        return True\n",
    "    if board[9]==board[6]==board[3]==mark:\n",
    "        return True\n",
    "    if board[7]==board[5]==board[3]==mark:\n",
    "        return True\n",
    "    if board[9]==board[5]==board[1]==mark:\n",
    "        return True\n",
    "    \n",
    "    return False"
   ]
  },
  {
   "cell_type": "code",
   "execution_count": 8,
   "metadata": {},
   "outputs": [],
   "source": [
    "# test_board = ['#','X','O','X','O','X','O','X','','X']\n",
    "# display_board(test_board)"
   ]
  },
  {
   "cell_type": "code",
   "execution_count": 9,
   "metadata": {},
   "outputs": [],
   "source": [
    "# win_check(test_board,'X')"
   ]
  },
  {
   "cell_type": "code",
   "execution_count": 10,
   "metadata": {},
   "outputs": [],
   "source": [
    "import random\n",
    "\n",
    "def first_play():\n",
    "    num = random.randint(1,2)\n",
    "    if num == 1:\n",
    "        return 'Player 1'\n",
    "    elif num == 2:\n",
    "        return 'Player 2'"
   ]
  },
  {
   "cell_type": "code",
   "execution_count": 11,
   "metadata": {},
   "outputs": [],
   "source": [
    "def space_check(board, position):\n",
    "    if board[position] == ' ':\n",
    "        return True\n",
    "    return False"
   ]
  },
  {
   "cell_type": "code",
   "execution_count": 12,
   "metadata": {},
   "outputs": [],
   "source": [
    "def full_board_check(board):\n",
    "    for place in board:\n",
    "        if place == ' ':\n",
    "            return True\n",
    "    else:\n",
    "        return False\n",
    "        "
   ]
  },
  {
   "cell_type": "code",
   "execution_count": 13,
   "metadata": {},
   "outputs": [],
   "source": [
    "import string\n",
    "\n",
    "def player_choice(board):\n",
    "    board = board\n",
    "    ok = False\n",
    "    choice = ' '\n",
    "    num_list = []\n",
    "    \n",
    "    for num in string.digits:\n",
    "        num_list.append(num)\n",
    "    \n",
    "#     while choice not in num_list:\n",
    "#         choice = input('Choose an EMPTY position for your marker as NUMBERS from 1-9(modern keypad format): ')\n",
    "    \n",
    "    while ok == False:\n",
    "        choice = input('Choose an EMPTY position for your marker as NUMBERS from 1-9(modern keypad format): ')\n",
    "        while choice not in num_list:\n",
    "            choice = input('Choose an EMPTY position for your marker as NUMBERS from 1-9(modern keypad format): ')\n",
    "        ok = space_check(board, int(choice))\n",
    "        \n",
    "    \n",
    "    return int(choice) \n",
    "    "
   ]
  },
  {
   "cell_type": "code",
   "execution_count": 14,
   "metadata": {},
   "outputs": [],
   "source": [
    "# player_choice(test_board)"
   ]
  },
  {
   "cell_type": "code",
   "execution_count": 15,
   "metadata": {},
   "outputs": [],
   "source": [
    "def replay():\n",
    "    r = 'lol'\n",
    "    while r not in ['Y','N']:\n",
    "        r = input('Do you want to play again(Y/N): ')\n",
    "    if r == 'Y':\n",
    "        return True\n",
    "    return False\n",
    "        "
   ]
  },
  {
   "cell_type": "code",
   "execution_count": 16,
   "metadata": {},
   "outputs": [],
   "source": [
    "# replay()"
   ]
  },
  {
   "cell_type": "code",
   "execution_count": 17,
   "metadata": {},
   "outputs": [
    {
     "name": "stdout",
     "output_type": "stream",
     "text": [
      " | |X\n",
      " |X|O\n",
      "X|O| \n",
      "\n",
      "Player 1 wins!\n",
      "\n",
      "Do you want to play again(Y/N): N\n"
     ]
    }
   ],
   "source": [
    "from IPython.display import clear_output\n",
    "\n",
    "print('Welcome to tic tac toe!')\n",
    "\n",
    "while True:\n",
    "    board = ['#',' ',' ',' ',' ',' ',' ',' ',' ',' ',]\n",
    "    clear_output()\n",
    "    display_board(board)\n",
    "    player1,player2 = player_input()\n",
    "    \n",
    "    player = first_play()\n",
    "    next_play = 0\n",
    "    \n",
    "    while full_board_check(board) == True and win_check(board, player1) == False and win_check(board, player2) == False:\n",
    "        if player == 'Player 1' or next_play == 1:\n",
    "            print('')\n",
    "            print('Player 1 make your move')\n",
    "            position = player_choice(board)\n",
    "            mark = player1\n",
    "            place_marker(board, mark, position)\n",
    "            clear_output()\n",
    "            display_board(board)\n",
    "            player = 'poop'\n",
    "            next_play = 2\n",
    "            \n",
    "        elif player == 'Player 2' or next_play == 2:\n",
    "            print('')\n",
    "            print('Player 2 make your move')\n",
    "            position = player_choice(board)\n",
    "            mark = player2\n",
    "            place_marker(board, mark, position)\n",
    "            clear_output()\n",
    "            display_board(board)\n",
    "        \n",
    "            next_play = 1\n",
    "            \n",
    "    \n",
    "    if win_check(board, player1) == True:\n",
    "        print('')\n",
    "        print('Player 1 wins!')\n",
    "        print('')\n",
    "        \n",
    "    elif win_check(board, player2) == True:\n",
    "        print('')\n",
    "        print('Player 2 wins!')\n",
    "        print('')\n",
    "        \n",
    "    else:\n",
    "        print('Draw!')\n",
    "            \n",
    "            \n",
    "    if replay():\n",
    "        continue\n",
    "    else:\n",
    "        break"
   ]
  },
  {
   "cell_type": "code",
   "execution_count": null,
   "metadata": {},
   "outputs": [],
   "source": []
  },
  {
   "cell_type": "code",
   "execution_count": null,
   "metadata": {},
   "outputs": [],
   "source": []
  }
 ],
 "metadata": {
  "kernelspec": {
   "display_name": "Python 3",
   "language": "python",
   "name": "python3"
  },
  "language_info": {
   "codemirror_mode": {
    "name": "ipython",
    "version": 3
   },
   "file_extension": ".py",
   "mimetype": "text/x-python",
   "name": "python",
   "nbconvert_exporter": "python",
   "pygments_lexer": "ipython3",
   "version": "3.7.6"
  }
 },
 "nbformat": 4,
 "nbformat_minor": 4
}
